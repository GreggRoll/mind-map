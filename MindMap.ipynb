{
 "cells": [
  {
   "cell_type": "code",
   "execution_count": 29,
   "id": "14281e12-1f87-4383-b2a5-72ce19efcdc7",
   "metadata": {},
   "outputs": [],
   "source": [
    "import pydot\n",
    "import os\n",
    "import json\n",
    "\n",
    "os.environ[\"PATH\"] += os.pathsep + \"C:\\\\Program Files\\\\Graphviz\\\\bin\"\n",
    "\n",
    "def lighten_color(base_color, amount):\n",
    "    \"\"\"\n",
    "    Lighten the given color by the specified amount.\n",
    "    \"\"\"\n",
    "    r = int(base_color[1:3], 16)\n",
    "    g = int(base_color[3:5], 16)\n",
    "    b = int(base_color[5:7], 16)\n",
    "    \n",
    "    r = min(255, r + amount)\n",
    "    g = min(255, g + amount)\n",
    "    b = min(255, b + amount)\n",
    "    \n",
    "    return \"#{:02x}{:02x}{:02x}\".format(r, g, b)\n",
    "\n",
    "def add_nodes(graph, parent_name, child_dict, depth):\n",
    "    \"\"\"\n",
    "    Recursively add nodes to the graph based on the JSON structure.\n",
    "    \"\"\"\n",
    "    color = lighten_color(\"#6a7aa8\", depth * 30)  # Start with a lighter blue (half blue, half white)\n",
    "    for child_name, grandchild_dict in child_dict.items():\n",
    "        child_node = pydot.Node(child_name, style=\"filled\", fillcolor=color)\n",
    "        graph.add_node(child_node)\n",
    "        edge = pydot.Edge(parent_name, child_name)\n",
    "        graph.add_edge(edge)\n",
    "        \n",
    "        add_nodes(graph, child_name, grandchild_dict, depth + 1)\n",
    "\n",
    "def create_mind_map(data):\n",
    "    graph = pydot.Dot(graph_type=\"graph\", rankdir=\"TB\", bgcolor=\"white\", ranksep=2)\n",
    "    \n",
    "    graph.set_node_defaults(shape='ellipse', fontsize='12', height='0.5', width='0.75')\n",
    "    graph.set_edge_defaults(len='3')\n",
    "    \n",
    "    root_name = list(data.keys())[0]\n",
    "    root_node = pydot.Node(root_name, style=\"filled\", fillcolor=\"#6a7aa8\")  # Lighter shade of blue\n",
    "    graph.add_node(root_node)\n",
    "    \n",
    "    add_nodes(graph, root_name, data[root_name], 1)  # Start with a depth of 1 for child nodes\n",
    "    \n",
    "    graph.write_png(\"mind_map.png\", prog='twopi')\n",
    "    os.startfile(\"mind_map.png\")\n",
    "\n",
    "with open(\"StartAGarden.json\", \"r\") as file:\n",
    "    data = json.load(file)\n",
    "    \n",
    "create_mind_map(data)"
   ]
  },
  {
   "cell_type": "code",
   "execution_count": null,
   "id": "065f6734-de5a-4d53-b8dc-bcc0cf0744ac",
   "metadata": {},
   "outputs": [],
   "source": []
  }
 ],
 "metadata": {
  "kernelspec": {
   "display_name": "Python 3 (ipykernel)",
   "language": "python",
   "name": "python3"
  },
  "language_info": {
   "codemirror_mode": {
    "name": "ipython",
    "version": 3
   },
   "file_extension": ".py",
   "mimetype": "text/x-python",
   "name": "python",
   "nbconvert_exporter": "python",
   "pygments_lexer": "ipython3",
   "version": "3.9.7"
  }
 },
 "nbformat": 4,
 "nbformat_minor": 5
}
